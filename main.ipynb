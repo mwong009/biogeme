{
 "cells": [
  {
   "cell_type": "code",
   "execution_count": null,
   "metadata": {},
   "outputs": [],
   "source": [
    "import biogeme\n",
    "from biogeme.database import Database\n",
    "import pandas as pd\n",
    "\n",
    "swissmetro = pd.read_csv(\"examples/swissmetro/swissmetro.dat\", sep=\"\\t\")\n",
    "database = Database(\"swissmetro\", swissmetro)\n",
    "globals().update(database.variables)\n",
    "\n",
    "# Removing some observations\n",
    "exclude = ((PURPOSE != 1) * (PURPOSE != 3) + (CHOICE == 0)) > 0\n",
    "database.remove(exclude)\n",
    "database.data[\"CHOICE\"] -= 1"
   ]
  },
  {
   "cell_type": "code",
   "execution_count": 4,
   "metadata": {},
   "outputs": [
    {
     "name": "stdout",
     "output_type": "stream",
     "text": [
      "0\n",
      "Elemwise{add,no_inplace}.0\n",
      "(b_cost(0.0) + `1`)\n",
      "Elemwise{mul,no_inplace}.0\n",
      "<class 'biogeme_aesara.BetaShared'>\n"
     ]
    }
   ],
   "source": [
    "import numpy as np\n",
    "import aesara\n",
    "import aesara.tensor as aet\n",
    "from biogeme.database import Database\n",
    "import pandas as pd\n",
    "from biogeme_aesara import DatabaseShared, BetaShared\n",
    "\n",
    "\n",
    "swissmetro = pd.read_csv(\"examples/swissmetro/swissmetro.dat\", sep=\"\\t\")\n",
    "db = DatabaseShared(\"swissmetro\", swissmetro, choiceVar=\"CHOICE\")\n",
    "globals().update(db.variables)\n",
    "\n",
    "\n",
    "# Removing some observations\n",
    "exclude = ((PURPOSE != 1) * (PURPOSE != 3) + (CHOICE == 0)) > 0\n",
    "db.remove(exclude)\n",
    "db.data[\"CHOICE\"] -= 1 # set the first choice to 0\n",
    "\n",
    "\n",
    "b_cost = BetaShared(\"b_cost\", 0., None, None, 0)\n",
    "b_time = BetaShared(\"b_time\", 0., None, None, 0)\n",
    "asc_train = BetaShared(\"asc_train\", 0., None, None, 0)\n",
    "asc_car = BetaShared(\"asc_car\", 0., None, None, 0)\n",
    "asc_sm = BetaShared(\"asc_sm\", 0., None, None, 0)\n",
    "\n",
    "params = [b_cost(), b_time(), asc_train(), asc_car(), asc_sm()]\n",
    "\n",
    "print(asc_sm.status)\n",
    "\n",
    "# load all BetaShared Python variables into params\n",
    "print(b_cost() + 1) # b_cost(0.0) Aesara style\n",
    "print(b_cost + 1) # (b_cost(0.0) + `1`) Biogeme style\n",
    "print(b_cost * TRAIN_CO.x)\n",
    "print(type(asc_train))"
   ]
  },
  {
   "cell_type": "code",
   "execution_count": 5,
   "metadata": {},
   "outputs": [
    {
     "name": "stdout",
     "output_type": "stream",
     "text": [
      "U_1 <class 'aesara.tensor.var.TensorVariable'>\n",
      "(6768,)\n",
      "()\n"
     ]
    }
   ],
   "source": [
    "# define the utility functions\n",
    "U_1 = b_cost * TRAIN_CO.x + b_time * TRAIN_TT.x + asc_train\n",
    "U_2 = b_cost * CAR_CO.x + b_time * CAR_TT.x + asc_car\n",
    "U_3 = b_cost * SM_CO.x + b_time * SM_TT.x + asc_sm\n",
    "\n",
    "print(\"U_1\", type(U_1)) # returns aesara.tensor.var.TensorVariable\n",
    "print(db.data.TRAIN_CO.shape) # returns a vector of variables\n",
    "print(b_cost.sharedVar.eval().shape)"
   ]
  },
  {
   "cell_type": "code",
   "execution_count": 6,
   "metadata": {},
   "outputs": [],
   "source": [
    "utility_vector = aet.concatenate([U_1, U_2, U_3], axis=1)\n",
    "prob = aet.nnet.softmax(utility_vector, axis=None)\n",
    "y_pred = aet.argmax(prob, axis=1)\n",
    "neg_loglike = -aet.mean(aet.log(prob)[aet.arange(CHOICE.y.shape[0]), CHOICE.y])\n",
    "error = aet.mean(aet.neq(y_pred, CHOICE.y))\n",
    "grads = aet.grad(neg_loglike, params)\n",
    "\n",
    "# print(\"b_cost_shape\", b_cost.sharedVar.shape.eval())\n",
    "\n",
    "# hess, updates = aesara.scan(\n",
    "# \tlambda i, y, x: aet.grad(\n",
    "# \t\ty[i],\n",
    "# \t\tx,\n",
    "# \t\tconsider_constant=None,\n",
    "# \t\tdisconnected_inputs=\"ignore\",\n",
    "# \t),\n",
    "# \tsequences=range(len(grads)),\n",
    "# \tnon_sequences=[grads, params],\n",
    "# )"
   ]
  },
  {
   "cell_type": "code",
   "execution_count": 25,
   "metadata": {},
   "outputs": [
    {
     "name": "stdout",
     "output_type": "stream",
     "text": [
      "iteration 0: 1123.20703125\n",
      "0.6282505910165485\n",
      "iteration 100: 456.2341613769531\n",
      "iteration 200: 1585.26953125\n",
      "0.630466903073286\n",
      "iteration 300: 927.25341796875\n",
      "iteration 400: 280.29791259765625\n",
      "0.6529255319148937\n"
     ]
    },
    {
     "ename": "AttributeError",
     "evalue": "'float' object has no attribute 'round'",
     "output_type": "error",
     "traceback": [
      "\u001b[1;31m---------------------------------------------------------------------------\u001b[0m",
      "\u001b[1;31mAttributeError\u001b[0m                            Traceback (most recent call last)",
      "\u001b[1;32m~\\AppData\\Local\\Temp/ipykernel_19964/865499831.py\u001b[0m in \u001b[0;36m<module>\u001b[1;34m\u001b[0m\n\u001b[0;32m     50\u001b[0m \u001b[0mestimated_betas\u001b[0m \u001b[1;33m=\u001b[0m \u001b[1;33m{\u001b[0m\u001b[1;33m}\u001b[0m\u001b[1;33m\u001b[0m\u001b[1;33m\u001b[0m\u001b[0m\n\u001b[0;32m     51\u001b[0m \u001b[1;32mfor\u001b[0m \u001b[0mn\u001b[0m\u001b[1;33m,\u001b[0m \u001b[0mp\u001b[0m \u001b[1;32min\u001b[0m \u001b[0menumerate\u001b[0m\u001b[1;33m(\u001b[0m\u001b[0mparams\u001b[0m\u001b[1;33m)\u001b[0m\u001b[1;33m:\u001b[0m\u001b[1;33m\u001b[0m\u001b[1;33m\u001b[0m\u001b[0m\n\u001b[1;32m---> 52\u001b[1;33m     \u001b[0mestimated_betas\u001b[0m\u001b[1;33m[\u001b[0m\u001b[0mp\u001b[0m\u001b[1;33m]\u001b[0m \u001b[1;33m=\u001b[0m \u001b[0mtest_betas\u001b[0m\u001b[1;33m[\u001b[0m\u001b[0mn\u001b[0m\u001b[1;33m]\u001b[0m\u001b[1;33m.\u001b[0m\u001b[0mtolist\u001b[0m\u001b[1;33m(\u001b[0m\u001b[1;33m)\u001b[0m\u001b[1;33m.\u001b[0m\u001b[0mround\u001b[0m\u001b[1;33m(\u001b[0m\u001b[1;36m3\u001b[0m\u001b[1;33m)\u001b[0m\u001b[1;33m\u001b[0m\u001b[1;33m\u001b[0m\u001b[0m\n\u001b[0m\u001b[0;32m     53\u001b[0m \u001b[0mprint\u001b[0m\u001b[1;33m(\u001b[0m\u001b[0mestimated_betas\u001b[0m\u001b[1;33m)\u001b[0m\u001b[1;33m\u001b[0m\u001b[1;33m\u001b[0m\u001b[0m\n",
      "\u001b[1;31mAttributeError\u001b[0m: 'float' object has no attribute 'round'"
     ]
    }
   ],
   "source": [
    "hess = aet.as_tensor_variable(np.zeros((len(grads), len(grads))))\n",
    "for i in range(len(grads)):\n",
    "\thess = aet.set_subtensor(x=hess[i,:], \n",
    "        y=aet.grad(\n",
    "            cost=grads[i], wrt=params, consider_constant=None,\n",
    "            disconnected_inputs=\"ignore\"))\n",
    "\n",
    "bhhh = aet.outer(aet.as_tensor_variable(grads), aet.as_tensor_variable(grads).T)\n",
    "double1 = aet.grad(grads[0], params)\n",
    "\n",
    "# double2 = aet.grad(g_b_time, [b_time(), b_cost()])\n",
    "\n",
    "lr = 0.001\n",
    "updates = [(param, param - lr * grad) for param, grad in zip(params, grads)]\n",
    "\n",
    "loglikelihood_estimation = aesara.function(\n",
    "    inputs=db.inputs(),\n",
    "    outputs=neg_loglike,\n",
    "    updates=updates,\n",
    "    on_unused_input=\"ignore\",\n",
    ")\n",
    "\n",
    "output_bhhh = aesara.function(\n",
    "    inputs=db.inputs(),\n",
    "    outputs=bhhh,\n",
    "    on_unused_input=\"ignore\",\n",
    ")\n",
    "\n",
    "output_errors = aesara.function(\n",
    "    inputs=db.inputs(),\n",
    "    outputs=error,\n",
    "    on_unused_input=\"ignore\",\n",
    ")\n",
    "\n",
    "output_estimated_betas = aesara.function(\n",
    "    inputs=db.inputs(),\n",
    "    outputs=params,\n",
    "    on_unused_input=\"ignore\",\n",
    ") \n",
    "\n",
    "for i in range(500):\n",
    "    output = loglikelihood_estimation(*(db.input_data()))\n",
    "    if i % 100 == 0:\n",
    "        print(\"iteration {}: {}\".format(i, output))\n",
    "    if i % 200 == 0:\n",
    "        print(output_errors(*(db.input_data())))\n",
    "# test_bh = bh(*(db.get_x_data() + db.get_y_data()))\n",
    "# print(test_bh)\n",
    "test_betas = output_estimated_betas(*(db.input_data()))\n",
    "estimated_betas = {}\n",
    "for n, p in enumerate(params):\n",
    "    estimated_betas[p] = test_betas[n].tolist().round(3)\n",
    "print(estimated_betas)"
   ]
  },
  {
   "cell_type": "code",
   "execution_count": 29,
   "metadata": {},
   "outputs": [
    {
     "name": "stdout",
     "output_type": "stream",
     "text": [
      "{b_cost: -4.859, b_time: -1.258, asc_train: 0.268, asc_car: -0.702, asc_sm: 0.434}\n"
     ]
    }
   ],
   "source": [
    "for n, p in enumerate(params):\n",
    "    estimated_betas[p] = np.round(test_betas[n].tolist(), 3)\n",
    "print(estimated_betas)"
   ]
  },
  {
   "cell_type": "code",
   "execution_count": 24,
   "metadata": {},
   "outputs": [
    {
     "ename": "NameError",
     "evalue": "name 'f' is not defined",
     "output_type": "error",
     "traceback": [
      "\u001b[1;31m---------------------------------------------------------------------------\u001b[0m",
      "\u001b[1;31mNameError\u001b[0m                                 Traceback (most recent call last)",
      "\u001b[1;32m~\\AppData\\Local\\Temp/ipykernel_19408/4195323876.py\u001b[0m in \u001b[0;36m<module>\u001b[1;34m\u001b[0m\n\u001b[0;32m      1\u001b[0m \u001b[1;32mfrom\u001b[0m \u001b[0mscipy\u001b[0m \u001b[1;32mimport\u001b[0m \u001b[0mlinalg\u001b[0m\u001b[1;33m\u001b[0m\u001b[1;33m\u001b[0m\u001b[0m\n\u001b[1;32m----> 2\u001b[1;33m \u001b[0moutput\u001b[0m \u001b[1;33m=\u001b[0m \u001b[0mf\u001b[0m\u001b[1;33m(\u001b[0m\u001b[1;33m*\u001b[0m\u001b[1;33m(\u001b[0m\u001b[0mdb\u001b[0m\u001b[1;33m.\u001b[0m\u001b[0mget_x_data\u001b[0m\u001b[1;33m(\u001b[0m\u001b[1;33m)\u001b[0m \u001b[1;33m+\u001b[0m \u001b[0mdb\u001b[0m\u001b[1;33m.\u001b[0m\u001b[0mget_y_data\u001b[0m\u001b[1;33m(\u001b[0m\u001b[1;33m)\u001b[0m\u001b[1;33m)\u001b[0m\u001b[1;33m)\u001b[0m\u001b[1;33m\u001b[0m\u001b[1;33m\u001b[0m\u001b[0m\n\u001b[0m\u001b[0;32m      3\u001b[0m \u001b[0mnp\u001b[0m\u001b[1;33m.\u001b[0m\u001b[0mset_printoptions\u001b[0m\u001b[1;33m(\u001b[0m\u001b[0msuppress\u001b[0m\u001b[1;33m=\u001b[0m\u001b[1;32mTrue\u001b[0m\u001b[1;33m)\u001b[0m\u001b[1;33m\u001b[0m\u001b[1;33m\u001b[0m\u001b[0m\n\u001b[0;32m      4\u001b[0m \u001b[0mprint\u001b[0m\u001b[1;33m(\u001b[0m\u001b[1;34m\"hessian matrix:\"\u001b[0m\u001b[1;33m)\u001b[0m\u001b[1;33m\u001b[0m\u001b[1;33m\u001b[0m\u001b[0m\n\u001b[0;32m      5\u001b[0m \u001b[0mprint\u001b[0m\u001b[1;33m(\u001b[0m\u001b[0moutput\u001b[0m\u001b[1;33m)\u001b[0m\u001b[1;33m\u001b[0m\u001b[1;33m\u001b[0m\u001b[0m\n",
      "\u001b[1;31mNameError\u001b[0m: name 'f' is not defined"
     ]
    }
   ],
   "source": [
    "from scipy import linalg\n",
    "output = f(*(db.get_x_data() + db.get_y_data()))\n",
    "np.set_printoptions(suppress=True)\n",
    "print(\"hessian matrix:\")\n",
    "print(output)\n",
    "varcovar = -linalg.pinv(np.nan_to_num(output))\n",
    "stdErr = []\n",
    "for i in range(len(params)):\n",
    "    if varcovar[i, i] < 0:\n",
    "        stdErr.append(np.finfo(float).max)\n",
    "    else:\n",
    "        stdErr.append(np.sqrt(varcovar[i, i]))\n",
    "print(\"standard errors:\")\n",
    "print(stdErr)\n",
    "\n",
    "d = np.diag(varcovar)\n",
    "if (d > 0).all():\n",
    "    diag = np.diag(np.sqrt(d))\n",
    "    diagInv = linalg.inv(diag)\n",
    "    correlation = diagInv.dot(varcovar.dot(diagInv))\n",
    "else:\n",
    "    correlation = np.full_like(varcovar, np.finfo(float).max)\n",
    "\n",
    "print(\"correlation matrix:\")\n",
    "print(correlation)\n",
    "\n",
    "test_bh = bh(*(db.get_x_data() + db.get_y_data()))\n",
    "# test_bh = linalg.inv(np.nan_to_num(test_bh))\n",
    "# print(\"BHHH:\")\n",
    "# print(test_bh)\n",
    "robust_varCovar = varcovar.dot(test_bh.dot(varcovar))\n",
    "robStdErr = []\n",
    "for i in range(len(params)):\n",
    "    if robust_varCovar[i, i] < 0:\n",
    "        robStdErr.append(np.finfo(float).max)\n",
    "    else:\n",
    "        robStdErr.append(np.sqrt(robust_varCovar[i, i]))\n",
    "rd = np.diag(robust_varCovar)\n",
    "if (rd > 0).all():\n",
    "    diag = np.diag(np.sqrt(rd))\n",
    "    diagInv = linalg.inv(diag)\n",
    "    robust_correlation = diagInv.dot(robust_varCovar.dot(diagInv))\n",
    "else:\n",
    "    robust_correlation = np.full_like(robust_varCovar, np.finfo(float).max)\n",
    "\n",
    "print(\"rob correlation matrix:\")\n",
    "print(robust_correlation)   \n",
    "\n",
    "test_betas = estimated_betas(*(db.get_x_data() + db.get_y_data()))\n",
    "print(np.asarray(test_betas))"
   ]
  },
  {
   "cell_type": "code",
   "execution_count": null,
   "metadata": {},
   "outputs": [],
   "source": []
  }
 ],
 "metadata": {
  "interpreter": {
   "hash": "ca67eba6a02de5a4596a46c03ec5b361b0293be7b73fa28b451703ced66c5cb4"
  },
  "kernelspec": {
   "display_name": "Python 3.9.7 64-bit (conda)",
   "language": "python",
   "name": "python3"
  },
  "language_info": {
   "codemirror_mode": {
    "name": "ipython",
    "version": 3
   },
   "file_extension": ".py",
   "mimetype": "text/x-python",
   "name": "python",
   "nbconvert_exporter": "python",
   "pygments_lexer": "ipython3",
   "version": "3.9.7"
  },
  "orig_nbformat": 4
 },
 "nbformat": 4,
 "nbformat_minor": 2
}
