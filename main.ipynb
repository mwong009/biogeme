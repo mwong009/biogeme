{
 "cells": [
  {
   "cell_type": "code",
   "execution_count": 1,
   "metadata": {},
   "outputs": [
    {
     "ename": "NameError",
     "evalue": "name 'PURPOSE' is not defined",
     "output_type": "error",
     "traceback": [
      "\u001b[1;31m---------------------------------------------------------------------------\u001b[0m",
      "\u001b[1;31mNameError\u001b[0m                                 Traceback (most recent call last)",
      "\u001b[1;32m~\\AppData\\Local\\Temp/ipykernel_1600/2254960979.py\u001b[0m in \u001b[0;36m<module>\u001b[1;34m\u001b[0m\n\u001b[0;32m      5\u001b[0m \u001b[1;33m\u001b[0m\u001b[0m\n\u001b[0;32m      6\u001b[0m \u001b[1;31m# Removing some observations\u001b[0m\u001b[1;33m\u001b[0m\u001b[1;33m\u001b[0m\u001b[0m\n\u001b[1;32m----> 7\u001b[1;33m \u001b[0mexclude\u001b[0m \u001b[1;33m=\u001b[0m \u001b[1;33m(\u001b[0m\u001b[1;33m(\u001b[0m\u001b[0mPURPOSE\u001b[0m \u001b[1;33m!=\u001b[0m \u001b[1;36m1\u001b[0m\u001b[1;33m)\u001b[0m \u001b[1;33m*\u001b[0m \u001b[1;33m(\u001b[0m\u001b[0mPURPOSE\u001b[0m \u001b[1;33m!=\u001b[0m \u001b[1;36m3\u001b[0m\u001b[1;33m)\u001b[0m \u001b[1;33m+\u001b[0m \u001b[1;33m(\u001b[0m\u001b[0mCHOICE\u001b[0m \u001b[1;33m==\u001b[0m \u001b[1;36m0\u001b[0m\u001b[1;33m)\u001b[0m\u001b[1;33m)\u001b[0m \u001b[1;33m>\u001b[0m \u001b[1;36m0\u001b[0m\u001b[1;33m\u001b[0m\u001b[1;33m\u001b[0m\u001b[0m\n\u001b[0m\u001b[0;32m      8\u001b[0m \u001b[0mdatabase\u001b[0m\u001b[1;33m.\u001b[0m\u001b[0mremove\u001b[0m\u001b[1;33m(\u001b[0m\u001b[0mexclude\u001b[0m\u001b[1;33m)\u001b[0m\u001b[1;33m\u001b[0m\u001b[1;33m\u001b[0m\u001b[0m\n\u001b[0;32m      9\u001b[0m \u001b[0mdatabase\u001b[0m\u001b[1;33m.\u001b[0m\u001b[0mdata\u001b[0m\u001b[1;33m[\u001b[0m\u001b[1;34m\"CHOICE\"\u001b[0m\u001b[1;33m]\u001b[0m \u001b[1;33m-=\u001b[0m \u001b[1;36m1\u001b[0m\u001b[1;33m\u001b[0m\u001b[1;33m\u001b[0m\u001b[0m\n",
      "\u001b[1;31mNameError\u001b[0m: name 'PURPOSE' is not defined"
     ]
    }
   ],
   "source": [
    "from biogeme.database import Database\n",
    "import pandas as pd\n",
    "swissmetro = pd.read_csv(\"examples/swissmetro/swissmetro.dat\", sep=\"\\t\")\n",
    "database = Database('swissmetro', swissmetro)\n",
    "\n",
    "# Removing some observations\n",
    "exclude = ((PURPOSE != 1) * (PURPOSE != 3) + (CHOICE == 0)) > 0\n",
    "database.remove(exclude)\n",
    "database.data[\"CHOICE\"] -= 1"
   ]
  },
  {
   "cell_type": "code",
   "execution_count": 2,
   "metadata": {},
   "outputs": [
    {
     "data": {
      "text/plain": [
       "{'GROUP': GROUP,\n",
       " 'SURVEY': SURVEY,\n",
       " 'SP': SP,\n",
       " 'ID': ID,\n",
       " 'PURPOSE': PURPOSE,\n",
       " 'FIRST': FIRST,\n",
       " 'TICKET': TICKET,\n",
       " 'WHO': WHO,\n",
       " 'LUGGAGE': LUGGAGE,\n",
       " 'AGE': AGE,\n",
       " 'MALE': MALE,\n",
       " 'INCOME': INCOME,\n",
       " 'GA': GA,\n",
       " 'ORIGIN': ORIGIN,\n",
       " 'DEST': DEST,\n",
       " 'TRAIN_AV': TRAIN_AV,\n",
       " 'CAR_AV': CAR_AV,\n",
       " 'SM_AV': SM_AV,\n",
       " 'TRAIN_TT': TRAIN_TT,\n",
       " 'TRAIN_CO': TRAIN_CO,\n",
       " 'TRAIN_HE': TRAIN_HE,\n",
       " 'SM_TT': SM_TT,\n",
       " 'SM_CO': SM_CO,\n",
       " 'SM_HE': SM_HE,\n",
       " 'SM_SEATS': SM_SEATS,\n",
       " 'CAR_TT': CAR_TT,\n",
       " 'CAR_CO': CAR_CO,\n",
       " 'CHOICE': CHOICE}"
      ]
     },
     "execution_count": 2,
     "metadata": {},
     "output_type": "execute_result"
    }
   ],
   "source": [
    "database.variables"
   ]
  },
  {
   "cell_type": "code",
   "execution_count": 1385,
   "metadata": {},
   "outputs": [
    {
     "name": "stdout",
     "output_type": "stream",
     "text": [
      "b_cost(0.2)\n",
      "(b_cost(0.2) + `1`)\n",
      "<class '__main__.BetaShared'>\n",
      "U_1 <class 'aesara.tensor.var.TensorVariable'>\n",
      "(6768, 1)\n",
      "()\n",
      "b_cost_shape []\n"
     ]
    },
    {
     "data": {
      "text/plain": [
       "[array(76.10709, dtype=float32),\n",
       " array([[0., 0.],\n",
       "        [0., 0.]], dtype=float32)]"
      ]
     },
     "execution_count": 1385,
     "metadata": {},
     "output_type": "execute_result"
    }
   ],
   "source": [
    "import aesara\n",
    "import aesara.tensor as aet\n",
    "import numpy as np\n",
    "from biogeme.expressions import Beta\n",
    "from biogeme.database import Database\n",
    "from aesara import shared\n",
    "from aesara.tensor.var import TensorVariable\n",
    "import pandas as pd\n",
    "\n",
    "\n",
    "class DatabaseShared(Database):\n",
    "\tdef __init__(self, name, pandasDatabase, choiceVar):\n",
    "\t\tsuper().__init__(name, pandasDatabase)\n",
    "\n",
    "\t\tfor v in self.variables:\n",
    "\t\t\tif v in self.data.columns:\n",
    "\t\t\t\tif self.variables[v].name == choiceVar:\n",
    "\t\t\t\t\tself.variables[v].y = aet.ivector(self.variables[v].name)\n",
    "\t\t\t\telse:\n",
    "\t\t\t\t\tself.variables[v].x = aet.matrix(self.variables[v].name)\n",
    "\n",
    "\tdef get_x(self):\n",
    "\t\tlist_of_x = []\n",
    "\t\tfor var in self.variables:\n",
    "\t\t\tif hasattr(self.variables[var], 'x'):\n",
    "\t\t\t\tlist_of_x.append(self.variables[var].x)\n",
    "\t\treturn list_of_x\n",
    "\n",
    "\tdef get_x_data(self):\n",
    "\t\tx_data = []\n",
    "\t\tlist_of_x = self.get_x()\n",
    "\t\tfor x in list_of_x:\n",
    "\t\t\tx_data.append(self.data[[x.name]])\n",
    "\t\treturn x_data\n",
    "\n",
    "\tdef get_y(self):\n",
    "\t\tlist_of_y = []\n",
    "\t\tfor var in self.variables:\n",
    "\t\t\tif hasattr(self.variables[var], 'y'):\n",
    "\t\t\t\tlist_of_y.append(self.variables[var].y)\n",
    "\t\treturn list_of_y\n",
    "\n",
    "\tdef get_y_data(self):\n",
    "\t\ty_data = []\n",
    "\t\tlist_of_y = self.get_y()\n",
    "\t\tfor y in list_of_y:\n",
    "\t\t\ty_data.append(self.data[y.name])\n",
    "\t\treturn y_data\n",
    "\n",
    "class BetaShared(Beta):\n",
    "\tdef __init__(self, name, value, lowerbound, upperbound, status):\n",
    "\t\tsuper().__init__(name, value, lowerbound, upperbound, status)\n",
    "\n",
    "\t\tself.sharedVar = aesara.shared(np.array(value).astype(aesara.config.floatX))\n",
    "\n",
    "\tdef __add__(self, other):\n",
    "\t\tif isinstance(other, (TensorVariable, BetaShared)):\n",
    "\t\t\treturn self.sharedVar + other\n",
    "\t\telse:\n",
    "\t\t\treturn super().__add__(other)\n",
    "\t\n",
    "\tdef __radd__(self, other):\n",
    "\t\tif isinstance(other, (TensorVariable, BetaShared)):\n",
    "\t\t\treturn self.sharedVar + other\n",
    "\t\treturn super().__radd__(other)\n",
    "\n",
    "\tdef __sub__(self, other):\n",
    "\t\tif isinstance(other, (TensorVariable, BetaShared)):\n",
    "\t\t\treturn self.sharedVar + other\n",
    "\t\treturn super().__sub__(other)\n",
    "\t\n",
    "\tdef __mul__(self, other):\n",
    "\t\tif isinstance(other, (TensorVariable, BetaShared)):\n",
    "\t\t\treturn self.sharedVar * other\n",
    "\t\telse:\n",
    "\t\t\treturn super().__mul__(other)\n",
    "\n",
    "\tdef __truediv__(self, other):\n",
    "\t\tif isinstance(other, (TensorVariable, BetaShared)):\n",
    "\t\t\treturn self.sharedVar / other\n",
    "\t\treturn super().__truediv__(other)\n",
    "\n",
    "\tdef __pow__(self, other):\n",
    "\t\treturn super().__pow__(other)\n",
    "\n",
    "\tdef __rsub__(self, other):\n",
    "\t\treturn super().__rsub__(other)\n",
    "\n",
    "\tdef __rmul__(self, other):\n",
    "\t\treturn super().__rmul__(other)\n",
    "\n",
    "\n",
    "\n",
    "swissmetro = pd.read_csv(\"examples/swissmetro/swissmetro.dat\", sep=\"\\t\")\n",
    "db = DatabaseShared('swissmetro', swissmetro, choiceVar=\"CHOICE\")\n",
    "globals().update(db.variables)\n",
    "\n",
    "\n",
    "# Removing some observations\n",
    "exclude = ((PURPOSE != 1) * (PURPOSE != 3) + (CHOICE == 0)) > 0\n",
    "db.remove(exclude)\n",
    "db.data[\"CHOICE\"] -= 1\n",
    "\n",
    "b_cost = BetaShared(\"b_cost\", 0.2, None, None, 0)\n",
    "b_time = BetaShared(\"b_time\", 0.2, None, None, 0)\n",
    "asc_train = BetaShared(\"asc_train\", 0.2, None, None, 0)\n",
    "asc_car = BetaShared(\"asc_car\", 0.2, None, None, 0)\n",
    "asc_sm = BetaShared(\"asc_sm\", 0.2, None, None, 0)\n",
    "\n",
    "print(b_cost)\n",
    "print(b_cost + 1)\n",
    "print(type(asc_train))\n",
    "\n",
    "U_1 = b_cost * TRAIN_CO.x + b_time * TRAIN_TT.x + asc_train\n",
    "U_2 = b_cost * CAR_CO.x + b_time * CAR_TT.x + asc_car\n",
    "U_3 = b_cost * SM_CO.x + b_time * SM_TT.x + asc_sm\n",
    "\n",
    "print('U_1', type(U_1))\n",
    "\n",
    "print(db.data[[TRAIN_CO.name]].shape)\n",
    "print(b_cost.sharedVar.eval().shape)\n",
    "Uvec = aet.concatenate([U_1, U_2, U_3], axis=1)\n",
    "prob = aet.nnet.softmax(Uvec)\n",
    "\n",
    "loglike = -aet.mean(aet.log(prob)[aet.arange(CHOICE.y.shape[0]), CHOICE.y])\n",
    "g_b_cost = aet.grad(loglike, b_cost.sharedVar)\n",
    "g_b_time = aet.grad(loglike, b_time.sharedVar)\n",
    "\n",
    "print(\"b_cost_shape\", b_cost.sharedVar.shape.eval())\n",
    "\n",
    "hessians = []\n",
    "hess, updates = aesara.scan(\n",
    "\tlambda i, y, x: aet.grad(\n",
    "\t\ty[i],\n",
    "\t\tx,\n",
    "\t\tconsider_constant=None,\n",
    "\t\tdisconnected_inputs=\"ignore\",\n",
    "\t),\n",
    "\tsequences=aet.arange(2),\n",
    "\tnon_sequences=[[g_b_cost, g_b_time], [b_cost.sharedVar, b_time.sharedVar]],\n",
    ")\n",
    "hessians.append(hess)\n",
    "\n",
    "double1 = aet.grad(g_b_cost, b_time.sharedVar)\n",
    "double11 = aet.grad(g_b_cost, b_cost.sharedVar)\n",
    "double2 = aet.grad(g_b_time, b_time.sharedVar)\n",
    "double22 = aet.grad(g_b_time, b_cost.sharedVar)\n",
    "\n",
    "\n",
    "updates = [\n",
    "\t(b_cost.sharedVar, b_cost.sharedVar - 0.0001 * g_b_cost),\n",
    "\t(b_time.sharedVar, b_time.sharedVar - 0.0001 * g_b_time),\n",
    "]\n",
    "f = aesara.function(db.get_x() + db.get_y(), [loglike] + hessians, updates=updates,on_unused_input='ignore')\n",
    "\n",
    "output = f(*(db.get_x_data() + db.get_y_data()))\n",
    "output"
   ]
  },
  {
   "cell_type": "code",
   "execution_count": 1711,
   "metadata": {},
   "outputs": [
    {
     "data": {
      "text/plain": [
       "[array(5.411472, dtype=float32),\n",
       " array([[0., 0.],\n",
       "        [0., 0.]], dtype=float32)]"
      ]
     },
     "execution_count": 1711,
     "metadata": {},
     "output_type": "execute_result"
    }
   ],
   "source": [
    "output = f(*(db.get_x_data() + db.get_y_data()))\n",
    "output"
   ]
  }
 ],
 "metadata": {
  "interpreter": {
   "hash": "ca67eba6a02de5a4596a46c03ec5b361b0293be7b73fa28b451703ced66c5cb4"
  },
  "kernelspec": {
   "display_name": "Python 3.9.7 64-bit (conda)",
   "language": "python",
   "name": "python3"
  },
  "language_info": {
   "codemirror_mode": {
    "name": "ipython",
    "version": 3
   },
   "file_extension": ".py",
   "mimetype": "text/x-python",
   "name": "python",
   "nbconvert_exporter": "python",
   "pygments_lexer": "ipython3",
   "version": "3.9.7"
  },
  "orig_nbformat": 4
 },
 "nbformat": 4,
 "nbformat_minor": 2
}
