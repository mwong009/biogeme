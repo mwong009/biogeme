{
 "cells": [
  {
   "cell_type": "code",
   "execution_count": null,
   "metadata": {},
   "outputs": [],
   "source": [
    "from biogeme.database import Database\n",
    "import pandas as pd\n",
    "swissmetro = pd.read_csv(\"examples/swissmetro/swissmetro.dat\", sep=\"\\t\")\n",
    "database = Database('swissmetro', swissmetro)"
   ]
  },
  {
   "cell_type": "code",
   "execution_count": null,
   "metadata": {},
   "outputs": [],
   "source": [
    "database.variables"
   ]
  },
  {
   "cell_type": "code",
   "execution_count": 90,
   "metadata": {},
   "outputs": [
    {
     "name": "stdout",
     "output_type": "stream",
     "text": [
      "b_cost(0.2)\n",
      "(b_cost(0.2) + `1`)\n",
      "<class 'aesara.tensor.var.TensorVariable'>\n",
      "U_1 <class 'aesara.tensor.var.TensorVariable'>\n",
      "(10728, 1)\n",
      "(1,)\n"
     ]
    },
    {
     "data": {
      "text/plain": [
       "(10728, 3)"
      ]
     },
     "execution_count": 90,
     "metadata": {},
     "output_type": "execute_result"
    }
   ],
   "source": [
    "import aesara\n",
    "import aesara.tensor as aet\n",
    "import numpy as np\n",
    "from biogeme.expressions import Beta\n",
    "from biogeme.database import Database\n",
    "from aesara.tensor.var import *\n",
    "\n",
    "class DatabaseShared(Database):\n",
    "\tdef __init__(self, name, pandasDatabase):\n",
    "\t\tsuper().__init__(name, pandasDatabase)\n",
    "\n",
    "\t\tfor v in self.variables:\n",
    "\t\t\tself.variables[v].x = aet.matrix(self.variables[v].name)\n",
    "\n",
    "class BetaShared(Beta):\n",
    "\tdef __init__(self, name, value, lowerbound, upperbound, status):\n",
    "\t\tsuper().__init__(name, value, lowerbound, upperbound, status)\n",
    "\n",
    "\t\tself.sharedVar = aesara.shared(np.array([value]))\n",
    "\n",
    "\tdef __add__(self, other):\n",
    "\t\tif type(other) in [TensorVariable]:\n",
    "\t\t\treturn self.sharedVar + other\n",
    "\t\treturn super().__add__(other)\n",
    "\n",
    "\tdef __sub__(self, other):\n",
    "\t\treturn super().__sub__(other)\n",
    "\t\n",
    "\tdef __mul__(self, other):\n",
    "\t\tif type(other) in [TensorVariable]:\n",
    "\t\t\treturn self.sharedVar * other\n",
    "\t\treturn super().__mul__(other)\n",
    "\n",
    "\tdef __truediv__(self, other):\n",
    "\t\tif type(other) in [TensorVariable]:\n",
    "\t\t\treturn self.sharedVar / other\n",
    "\t\treturn super().__truediv__(other)\n",
    "\n",
    "\tdef __pow__(self, other):\n",
    "\t\treturn super().__pow__(other)\n",
    "\t\n",
    "\tdef __radd__(self, other):\n",
    "\t\treturn super().__radd__(other)\n",
    "\n",
    "\tdef __rsub__(self, other):\n",
    "\t\treturn super().__rsub__(other)\n",
    "\n",
    "\tdef __rmul__(self, other):\n",
    "\t\treturn super().__rmul__(other)\n",
    "\n",
    "b_cost = BetaShared(\"b_cost\", 0.2, None, None, 0)\n",
    "b_time = BetaShared(\"b_time\", 0.1, None, None, 0)\n",
    "\n",
    "print(b_cost)\n",
    "print(b_cost + 1)\n",
    "\n",
    "db = DatabaseShared('swissmetro', swissmetro)\n",
    "globals().update(db.variables)\n",
    "print(type(TRAIN_CO.x))\n",
    "# print(database.data[TRAIN_CO.name])\n",
    "\n",
    "U_1 = b_cost * TRAIN_CO.x\n",
    "U_2 = b_cost * CAR_CO.x \n",
    "U_3 = b_cost * SM_CO.x \n",
    "print('U_1', type(U_1))\n",
    "\n",
    "print(database.data[[TRAIN_CO.name]].shape)\n",
    "print(b_cost.sharedVar.eval().shape)\n",
    "Uvec = aet.concatenate([U_1, U_2, U_3], axis=1)\n",
    "prob = aet.nnet.softmax(Uvec)\n",
    "\n",
    "f = aesara.function([db.variables[var].x for var in db.variables], prob, on_unused_input='ignore')\n",
    "\n",
    "output = f(*(database.data[[var]] for var in db.variables))\n",
    "\n",
    "output.shape"
   ]
  }
 ],
 "metadata": {
  "interpreter": {
   "hash": "ca67eba6a02de5a4596a46c03ec5b361b0293be7b73fa28b451703ced66c5cb4"
  },
  "kernelspec": {
   "display_name": "Python 3.9.7 64-bit (conda)",
   "language": "python",
   "name": "python3"
  },
  "language_info": {
   "codemirror_mode": {
    "name": "ipython",
    "version": 3
   },
   "file_extension": ".py",
   "mimetype": "text/x-python",
   "name": "python",
   "nbconvert_exporter": "python",
   "pygments_lexer": "ipython3",
   "version": "3.9.7"
  },
  "orig_nbformat": 4
 },
 "nbformat": 4,
 "nbformat_minor": 2
}
